{
 "cells": [
  {
   "cell_type": "code",
   "execution_count": null,
   "metadata": {},
   "outputs": [],
   "source": [
    "#読み込みモデルの選択用\n",
    "import os\n",
    "read_name=\"C:/Users/i6root/Tkt/New study/2DCNN_results/2DCNN_Ct_fineTune-NN2/Adam/allequalver/train_3796_rate_0.0001_batch_16_epochs_300_optimizer_Adam/\"\n",
    "print(read_name)\n",
    "os.path.exists(read_name)"
   ]
  },
  {
   "cell_type": "code",
   "execution_count": null,
   "metadata": {},
   "outputs": [],
   "source": [
    "from tqdm import tqdm\n",
    "import time\n",
    "import cv2\n",
    "import numpy as np\n",
    "from keras.utils import np_utils\n",
    "from PIL import Image\n",
    "from keras import backend as K\n",
    "from plot2 import Confusion_matrix\n",
    "from keras.preprocessing.image import array_to_img"
   ]
  },
  {
   "cell_type": "code",
   "execution_count": null,
   "metadata": {},
   "outputs": [],
   "source": [
    "from keras.models import model_from_json \n",
    "#json_string = open(os.path.join(read_name+'modelsmodel.json')).read()\n",
    "json_string = open(os.path.join(read_name+'modelsmodel.json')).read()\n",
    "model = model_from_json(json_string)\n",
    "print(model)"
   ]
  },
  {
   "cell_type": "code",
   "execution_count": null,
   "metadata": {},
   "outputs": [],
   "source": [
    "model.load_weights(read_name+'modelsweight.hdf5')\n",
    "print(model)"
   ]
  },
  {
   "cell_type": "code",
   "execution_count": null,
   "metadata": {},
   "outputs": [],
   "source": [
    "# 画像の読み込み\n",
    "def label_value(serch):\n",
    "    if \"acceptable\" in serch:\n",
    "        value=0\n",
    "    else :\n",
    "        value=1\n",
    "        \n",
    "    return value\n",
    "\n",
    "import csv\n",
    "#データの読み込みのために、csv読み込み\n",
    "def read_path_and_tag(csv_f):\n",
    "    train=[]\n",
    "    train_label=[]\n",
    "    train_tag=[]\n",
    "    valid=[]\n",
    "    valid_label=[]\n",
    "    valid_tag=[]\n",
    "    test=[]\n",
    "    test_label=[]\n",
    "    test_tag=[]\n",
    "\n",
    "    with open(csv_f) as f:\n",
    "        reader =csv.reader(f)\n",
    "        for row in reader:\n",
    "            #print(row[0],row[1])\n",
    "            #print(row[0])\n",
    "\n",
    "\n",
    "            if row[1] == \"test\":\n",
    "                test.append(row[0])\n",
    "                test_label.append(label_value(row[0]))\n",
    "                test_tag.append(row[1])\n",
    "                #print(' ///test ')\n",
    "\n",
    "            elif row[1]==\"valid\":\n",
    "                valid.append(row[0])\n",
    "                valid_label.append(label_value(row[0]))\n",
    "                valid_tag.append(row[1])\n",
    "                #print(' ///valid')\n",
    "\n",
    "            elif row[1]==\"train\":\n",
    "                train.append(row[0])\n",
    "                train_label.append(label_value(row[0]))\n",
    "                train_tag.append(row[1])\n",
    "                #print(' ///train')\n",
    "\n",
    "    return train,train_label,train_tag,valid,valid_label,valid_tag,test,test_label,test_tag\n",
    "\n",
    "\n",
    "# CTace_path =  read_path_and_tag(\"file_way_CT_1of2.csv\")\n",
    "# CTcol_path =  read_path_and_tag(\"file_way_CT_2of2.csv\")\n",
    "#CTace_path =  read_path_and_tag(\"file_way_CT_1of2_headpart.csv\")\n",
    "#CTcol_path =  read_path_and_tag(\"file_way_CT_2of2_headpart.csv\")\n",
    "CTace_path =  read_path_and_tag(\"file_way_CT_1of2_2DForUse_retable.csv\")\n",
    "CTcol_path =  read_path_and_tag(\"file_way_CT_2of2_2DForUse_retable.csv\")\n",
    "\n",
    "array_name = [\"train\",\"train_label\",\"train_tag\",\"valid\",\"valid_label\",\"valid_tag\",\"test\",\"test_label\",\"test_tag\"]\n",
    "array = [\"train\",\"train_label\",\"train_tag\",\"valid\",\"valid_label\",\"valid_tag\",\"test\",\"test_label\",\"test_tag\"]\n",
    "\n",
    "for i in range(9):\n",
    "    array[i] = CTace_path[i]+CTcol_path[i]\n",
    "    \n",
    "train = array[0]\n",
    "train_label = array[1]\n",
    "train_tag = array[2]\n",
    "valid = array[3]\n",
    "valid_label = array[4]\n",
    "valid_tag = array[5]\n",
    "test = array[6]\n",
    "test_label = array[7]\n",
    "test_tag = array[8]\n",
    "\n",
    "for i in range(9):\n",
    "    print(array_name[i],len(array[i]))\n",
    "# print(train_label)"
   ]
  },
  {
   "cell_type": "code",
   "execution_count": null,
   "metadata": {},
   "outputs": [],
   "source": [
    "#画像サイズ\n",
    "size=224\n",
    "num_class=2"
   ]
  },
  {
   "cell_type": "code",
   "execution_count": null,
   "metadata": {},
   "outputs": [],
   "source": [
    "test_0=[]\n",
    "test_1=[]\n",
    "\n",
    "for i in test_label:\n",
    "    if i==0:\n",
    "        test_0.append(i)\n",
    "    elif i==1:\n",
    "        test_1.append(i)\n",
    "        \n",
    "print(len(test_0),len(test_1))"
   ]
  },
  {
   "cell_type": "code",
   "execution_count": null,
   "metadata": {},
   "outputs": [],
   "source": [
    "#testも同数に\n",
    "test_0=[]\n",
    "test_1=[]\n",
    "pickup_test=[]\n",
    "test_equal=[]\n",
    "random.seed(1)\n",
    "\n",
    "for i in test:\n",
    "    if \"acceptable\" in i:\n",
    "        test_0.append(i)\n",
    "    else:\n",
    "        test_1.append(i)\n",
    "\n",
    "if len(test_0)<len(test_1):\n",
    "    pickup_test=random.sample(test_1,len(test_0))\n",
    "    test_equal=test_0+pickup_test      \n",
    "elif len(test_1)<len(test_0):\n",
    "    pickup_test=random.sample(test_0,len(test_1))\n",
    "    test_equal=test_1+pickup_test \n",
    "\n",
    "# test_equalのラベル作成\n",
    "test_equal_label=[]\n",
    "for i in test_equal:\n",
    "    if \"acceptable\" in i:\n",
    "        test_equal_label.append(0)\n",
    "            \n",
    "    else:\n",
    "        test_equal_label.append(1)\n",
    "            \n",
    "test=[]\n",
    "test_label=[]\n",
    "for i in range(len(test_equal_label)):\n",
    "    test.append(test_equal[i])\n",
    "    test_label.append(test_equal_label[i])\n",
    "print(len(test),len(test_label))"
   ]
  },
  {
   "cell_type": "code",
   "execution_count": null,
   "metadata": {},
   "outputs": [],
   "source": [
    "test_img = []\n",
    "for img in test:\n",
    "    test_img.append(cv2.imread(img))\n",
    "    \n",
    "print(len(test_img))"
   ]
  },
  {
   "cell_type": "code",
   "execution_count": null,
   "metadata": {},
   "outputs": [],
   "source": [
    "for i in range(len(test_img)):\n",
    "    test_img[i] = cv2.resize(test_img[i],(224,224))"
   ]
  },
  {
   "cell_type": "code",
   "execution_count": null,
   "metadata": {},
   "outputs": [],
   "source": [
    "print(type(test_img[0]))\n",
    "print(test_img[0].shape)"
   ]
  },
  {
   "cell_type": "code",
   "execution_count": null,
   "metadata": {},
   "outputs": [],
   "source": [
    "#画像の表示　内容の確認\n",
    "from matplotlib import pyplot as plt\n",
    "for i in range(4):\n",
    "    plt.subplot(2,4,i+1)\n",
    "    plt.imshow(test_img[i])"
   ]
  },
  {
   "cell_type": "code",
   "execution_count": null,
   "metadata": {
    "tags": []
   },
   "outputs": [],
   "source": [
    "learn_start=time.time()"
   ]
  },
  {
   "cell_type": "code",
   "execution_count": null,
   "metadata": {},
   "outputs": [],
   "source": [
    "# Grad_Cam\n",
    "def Grad_Cam(model, x, label,layer_name,size,save_name,view_name):\n",
    "    K.set_learning_phase(1)\n",
    "    X = np.expand_dims(x, axis=0)\n",
    "    predictions = model.predict(X)\n",
    "    pred = np.argmax(predictions)\n",
    "    class_idx = np.argmax(predictions[0])\n",
    "\n",
    "    class_output = model.output[:, class_idx]        \n",
    "    conv_output = model.get_layer(layer_name).output   # layer_nameのレイヤーのアウトプット\n",
    "    grads = K.gradients(class_output, conv_output)[0]  # gradients(loss, variables) で、variablesのlossに関しての勾配を返す\n",
    "    gradient_function = K.function([model.layers[0].input, K.learning_phase()], [conv_output, grads])  # model.inputを入力すると、conv_outputとgradsを出力する関数\n",
    "\n",
    "    output, grads_val = gradient_function([X])\n",
    "    output, grads_val = output[0], grads_val[0]\n",
    "\n",
    "    # 重みを平均化して、レイヤーのアウトプットに乗じる\n",
    "    weights = np.mean(grads_val, axis=(0, 1))\n",
    "    cam = np.dot(output, weights)\n",
    "    cam = cv2.resize(cam, (X.shape[2], X.shape[1]), cv2.INTER_LINEAR) # ブロック\n",
    "    # cam = cv2.resize(cam, (x.shape[2], x.shape[1]))  # いい感じ\n",
    "\n",
    "    cam = np.maximum(cam, 0)  # マイナス削除\n",
    "    cam = cam / cam.max()  # 正規化\n",
    "\n",
    "    jetcam = cv2.applyColorMap(np.uint8(size*cam), cv2.COLORMAP_JET)  # モノクロ画像に疑似的に色をつける\n",
    "    jetcam = cv2.cvtColor(jetcam, cv2.COLOR_BGR2RGB)  # 色をRGBに変換\n",
    "    jetcam = np.clip(np.float32(jetcam) + X[0]*255*0.5, 0, 255)# もとの画像に合成\n",
    "    jetcam = np.uint8(jetcam)\n",
    "    jetcam.reshape(X.shape[1:])\n",
    "    \n",
    "    if pred==1 and label==1:\n",
    "        Class=\"tp\"\n",
    "        \n",
    "    if pred==1 and label==0:\n",
    "        Class=\"fp\"\n",
    "        \n",
    "    if pred==0 and label==0:\n",
    "        Class=\"tn\"\n",
    "        \n",
    "    if pred==0 and label==1:\n",
    "        Class=\"fn\"\n",
    "    \n",
    "    #色付けした画像の保存\n",
    "    os.makedirs(save_name+'GradCam_folder'+'/'+'number'+str(i+1)+'/',exist_ok=True)\n",
    "    save_img=array_to_img(jetcam)#\n",
    "    plt.figure()\n",
    "    plt.title(save_view_name+str(i+1)+'Grad_Cam'+\"\\n\"+\"==result:\"+Class,fontsize=17)\n",
    "    plt.imshow(save_img)\n",
    "    \n",
    "    plt.savefig(save_name+'GradCam_folder'+'/'+'number'+str(i+1)+'/'+str(i+1)+'Grad_Cam.png',bbox_inches='tight')#  Grad_Camの保存\n",
    "    plt.close\n",
    "    os.makedirs(save_name+'GradCam_folder'+'/'+'number'+str(i+1)+'/',exist_ok=True)\n",
    "    plt.figure()\n",
    "        \n",
    "    plt.title(save_view_name+str(i+1)+'Original_test_img'+\"\\n\"+\"==result:\"+Class,fontsize=17)\n",
    "    plt.imshow(x)\n",
    "    plt.savefig(save_name+'GradCam_folder'+'/'+'number'+str(i+1)+'/'+str(i+1)+'Original_test_img.png',bbox_inches='tight')#  Grad_Camの保存\n",
    "    plt.close    \n",
    "    return print('finish')\n"
   ]
  },
  {
   "cell_type": "code",
   "execution_count": null,
   "metadata": {
    "jupyter": {
     "outputs_hidden": true
    },
    "scrolled": true,
    "tags": []
   },
   "outputs": [],
   "source": [
    "from matplotlib import pyplot as plt\n",
    "save_view_name=\"Grad_Cam_result\"\n",
    "#layer_folder=[\"conv1_pad\",\"conv1\",\"bn_conv1\",\"pool1_pad\"]\n",
    "# layer_folder=[\"res2a_branch2a\",\"bn2a_branch2a\",\"res2a_branch2b\",\"bn2a_branch2b\",\"res2a_branch2c\",\"res2a_branch1\",\"bn2a_branch2c\",\"bn2a_branch1\"]\n",
    "# layer_folder=[\"res2b_branch2a\",\"bn2b_branch2a\",\"res2b_branch2b\",\"bn2b_branch2b\",\"res2b_branch2c\",\"bn2b_branch2c\"]\n",
    "# layer_folder=[\"res2c_branch2a\",\"bn2c_branch2a\",\"res2c_branch2b\",\"bn2c_branch2b\",\"res2c_branch2c\",\"bn2c_branch2c\"]\n",
    "# layer_folder=[\"res3a_branch2a\",\"bn3a_branch2a\",\"res3a_branch2b\",\"bn3a_branch2b\",\"res3a_branch2c\",\"res3a_branch1\",\"bn3a_branch2c\",\"bn3a_branch1\"]\n",
    "# layer_folder=[\"res3b_branch2a\",\"bn3b_branch2a\",\"res3b_branch2b\",\"bn3b_branch2b\",\"res3b_branch2c\",\"bn3b_branch2c\"]\n",
    "# layer_folder=[\"res3c_branch2a\",\"bn3c_branch2a\",\"res3c_branch2b\",\"bn3c_branch2b\",\"res3c_branch2c\",\"bn3c_branch2c\"]\n",
    "# layer_folder=[\"res3d_branch2a\",\"bn3d_branch2a\",\"res3d_branch2b\",\"bn3d_branch2b\",\"res3d_branch2c\",\"bn3d_branch2c\"]\n",
    "# layer_folder=[\"res4a_branch2a\",\"bn4a_branch2a\",\"res4a_branch2b\",\"bn4a_branch2b\",\"res4a_branch2c\",\"res4a_branch1\",\"bn4a_branch2c\",\"bn4a_branch1\"]\n",
    "# layer_folder=[\"res4b_branch2a\",\"bn4b_branch2a\",\"res4b_branch2b\",\"bn4b_branch2b\",\"res4b_branch2c\",\"bn4b_branch2c\"]\n",
    "# layer_folder=[\"res4c_branch2a\",\"bn4c_branch2a\",\"res4c_branch2b\",\"bn4c_branch2b\",\"res4c_branch2c\",\"bn4c_branch2c\"]\n",
    "# layer_folder=[\"res4d_branch2a\",\"bn4d_branch2a\",\"res4d_branch2b\",\"bn4d_branch2b\",\"res4d_branch2c\",\"bn4d_branch2c\"]\n",
    "# layer_folder=[\"res4e_branch2a\",\"bn4e_branch2a\",\"res4e_branch2b\",\"bn4e_branch2b\",\"res4e_branch2c\",\"bn4e_branch2c\"]\n",
    "#layer_folder=[\"res4f_branch2a\",\"bn4f_branch2a\",\"res4f_branch2b\",\"bn4f_branch2b\",\"res4f_branch2c\",\"bn4f_branch2c\"]\n",
    "# layer_folder=[\"res5a_branch2a\",\"bn5a_branch2a\",\"res5a_branch2b\",\"bn5a_branch2b\",\"res5a_branch2c\",\"res5a_branch1\",\"bn5a_branch2c\",\"bn5a_branch1\"]\n",
    "# layer_folder=[\"res5b_branch2a\",\"bn5b_branch2a\",\"res5b_branch2b\",\"bn5b_branch2b\",\"res5b_branch2c\",\"bn5b_branch2c\"]\n",
    "#layer_folder=[\"res5c_branch2a\",\"bn5c_branch2a\",\"res5c_branch2b\",\"bn5c_branch2b\",\"res5c_branch2c\",\"bn5c_branch2c\"]\n",
    "layer_folder=[\"bn3d_branch2c\"]\n",
    "size=224\n",
    "for roop_count in tqdm(range(len(layer_folder))):\n",
    "    layer=layer_folder[roop_count]\n",
    "    save_name=\"C:\\\\Users\\\\i6root\\\\Tkt\\\\Grad_Cam_programs\\\\Grad_Cam_results\\\\20221206_results\\\\finetune\\\\\"+layer+\"\\\\\"\n",
    "    for i in tqdm(range(len(test_img))):\n",
    "        Grad_Cam(model, test_img[i],test_label[i],layer,size,save_name,save_view_name)"
   ]
  },
  {
   "cell_type": "code",
   "execution_count": null,
   "metadata": {},
   "outputs": [],
   "source": [
    "# color=\"Greens\"\n",
    "# p=Confusion_matrix(model,test_img,test_label,save_name,color,save_view_name)"
   ]
  },
  {
   "cell_type": "code",
   "execution_count": null,
   "metadata": {},
   "outputs": [],
   "source": [
    "learn_time=time.time()-learn_start\n",
    "learn_time/=60\n",
    "print(\"{:.04}min in learn\".format(learn_time))\n",
    "print(\"finish\")"
   ]
  }
 ],
 "metadata": {
  "kernelspec": {
   "display_name": "Python 3",
   "language": "python",
   "name": "python3"
  },
  "language_info": {
   "codemirror_mode": {
    "name": "ipython",
    "version": 3
   },
   "file_extension": ".py",
   "mimetype": "text/x-python",
   "name": "python",
   "nbconvert_exporter": "python",
   "pygments_lexer": "ipython3",
   "version": "3.7.7"
  }
 },
 "nbformat": 4,
 "nbformat_minor": 4
}
